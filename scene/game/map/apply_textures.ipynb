{
 "cells": [
  {
   "cell_type": "markdown",
   "metadata": {},
   "source": [
    "### Find where tiles should be placed\n",
    "\n",
    "#### TODO\n",
    "- add type indices for the blocks\n",
    "      - go through the `tilesets` list to find tile options\n",
    "      - find the one named `tiles`\n",
    "      - find the `gid` for each tile using `firstgid`\n",
    "      - use tile properties to decide where to place them\n",
    "        - typeName, name that groups the tiles as part of the same group\n",
    "        - typeDepth, min length in a plus shape needed to allow placing the tile type\n",
    "        - onEdge, is the tile an edge tile? (can only be on the edge or 1 inner)\n",
    "        - tileKind, (D, U, L, R, LU, RU, LD, RD) ((down, up, left,,, left-up corner,,,))\n",
    "- assign types when placing blocks\n",
    "    - start with assigning them all 1 for tile & 0 for no tile\n",
    "    - assign them gid based on placement"
   ]
  },
  {
   "cell_type": "code",
   "execution_count": 376,
   "metadata": {},
   "outputs": [],
   "source": [
    "TYPE_MAP = []"
   ]
  },
  {
   "cell_type": "code",
   "execution_count": 377,
   "metadata": {},
   "outputs": [],
   "source": [
    "import json\n",
    "\n",
    "mapObj = json.load(open('level1.json'))\n",
    "\n",
    "import torch\n",
    "\n",
    "TILE_SIZE = mapObj['tilewidth']\n",
    "\n",
    "class activeTileTracker:\n",
    "    def __init__(self, mapObj):\n",
    "        self.tiles = torch.zeros((mapObj['height'], mapObj['width']), dtype=torch.float)\n",
    "        self.startObjId = mapObj['nextobjectid']\n",
    "        self.min_x = 0\n",
    "        self.min_y = 0\n",
    "\n",
    "    def _extend_tiles(self, x, y):\n",
    "        if x < self.min_x:\n",
    "            prepend = torch.zeros((self.tiles.size(0), self.min_x - x))\n",
    "            self.tiles = torch.cat([prepend, self.tiles], dim=1)\n",
    "            self.min_x = x\n",
    "        if y < self.min_y:\n",
    "            prepend = torch.zeros((self.min_y - y, self.tiles.size(1)))\n",
    "            self.tiles = torch.cat([prepend, self.tiles])\n",
    "            self.min_y = y\n",
    "\n",
    "        if x > self.tiles.size(1):\n",
    "            postpend = torch.zeros((self.tiles.size(0), x - self.tiles.size(1)))\n",
    "            self.tiles = torch.cat([self.tiles, postpend], dim=1)\n",
    "        if y > self.tiles.size(0):\n",
    "            postpend = torch.zeros((y - self.tiles.size(0), self.tiles.size(1)))\n",
    "            self.tiles = torch.cat([self.tiles, postpend], dim=0)\n",
    "\n",
    "    def render_tiles(self):\n",
    "        objects = []\n",
    "        newObjId = self.startObjId + 1\n",
    "        for y, row in enumerate(self.tiles):\n",
    "            for x, val in enumerate(row):\n",
    "                if val == 1:\n",
    "                    objects.append({\n",
    "                     \"gid\": 280,\n",
    "                     \"height\": TILE_SIZE,\n",
    "                     \"id\": newObjId,\n",
    "                     \"name\": \"\",\n",
    "                     \"rotation\": 0,\n",
    "                     \"type\": \"\",\n",
    "                     \"visible\": True,\n",
    "                     \"width\": TILE_SIZE,\n",
    "                     \"x\": (x + self.min_x)*TILE_SIZE,\n",
    "                     \"y\": (y + 1 + self.min_y)*TILE_SIZE\n",
    "                    })\n",
    "                    newObjId += 1\n",
    "        self.nextobjectid = newObjId\n",
    "        return objects\n",
    "\n",
    "\n",
    "    def draw(self):\n",
    "        for row in self.tiles:\n",
    "            print_str = '|'\n",
    "            for v in row:\n",
    "                print_str += ' ' if v == 0 else '+'\n",
    "            print_str += '|'\n",
    "            print(print_str)\n",
    "\n",
    "    def add_tiled_sheet_square(self, x, y, width, height):\n",
    "        if width == 2 and height == 3:\n",
    "            print('LOOK!')\n",
    "\n",
    "        self._extend_tiles(x, y)\n",
    "        self._extend_tiles(x + width, y + height)\n",
    "\n",
    "        for y_offset in range(height):\n",
    "            tile_y = y_offset + y - self.min_y\n",
    "            tile_x = x - self.min_x\n",
    "            self.tiles[tile_y, tile_x:tile_x+width] = 1\n",
    "\n",
    "        return self.tiles"
   ]
  },
  {
   "cell_type": "code",
   "execution_count": 378,
   "metadata": {},
   "outputs": [
    {
     "name": "stdout",
     "output_type": "stream",
     "text": [
      "|             +++                                                                |\n",
      "|             +++                                                                |\n",
      "|             +++                                                                |\n",
      "|             +++                                                                |\n",
      "|    ++       +++                                                                |\n",
      "| ++++++      +++                                                                |\n",
      "| ++++++                                                                         |\n",
      "| ++++++                ++                                                       |\n",
      "| ++++++               ++++                                                      |\n",
      "| ++++++               ++++                                                      |\n",
      "| ++++++               ++++                                                      |\n",
      "| +++++++++++++++++++++++++                                                      |\n",
      "|                      ++++                                                      |\n",
      "|                      ++++                                                      |\n",
      "|                                                                                |\n",
      "|                                                                                |\n",
      "|             +++                                                                |\n",
      "|             ++                                                                 |\n",
      "|                                                                                |\n",
      "|                       ++                                                       |\n",
      "|                      ++++                                                      |\n",
      "|           ++         ++++                                                      |\n",
      "|          ++++        ++++                                                      |\n",
      "|          ++++        ++++                                                      |\n",
      "| +++++++++++++        ++++++ +++                                                |\n",
      "|                                                                                |\n",
      "|                                                                                |\n",
      "|                                                                                |\n",
      "|                                                                                |\n",
      "|                                                                                |\n",
      "|                                                                                |\n",
      "|                                                                                |\n",
      "|                                                                                |\n",
      "|                                                                                |\n",
      "|                                                                                |\n",
      "|                                                                                |\n",
      "|                                                                                |\n",
      "|                                                                                |\n"
     ]
    }
   ],
   "source": [
    "assert(mapObj['tilewidth'] == mapObj['tileheight'])\n",
    "\n",
    "tileTracker = activeTileTracker(mapObj)\n",
    "ground_layer = list( filter(lambda x: x['name'] == 'ground', mapObj['layers']) )[0]\n",
    "\n",
    "for obj in ground_layer['objects']:\n",
    "    if 'polygon' in obj:\n",
    "        continue\n",
    "\n",
    "    y = obj['y']\n",
    "    if obj['type'] != '':\n",
    "        y -= TILE_SIZE\n",
    "\n",
    "    tileTracker.add_tiled_sheet_square(\n",
    "        round(obj['x']/TILE_SIZE), round(y/TILE_SIZE), round(obj['width']/TILE_SIZE), round(obj['height']/TILE_SIZE)\n",
    "    )\n",
    "tileTracker.draw()"
   ]
  },
  {
   "cell_type": "markdown",
   "metadata": {},
   "source": [
    "### Place them in the `castledeco` layer"
   ]
  },
  {
   "cell_type": "code",
   "execution_count": 379,
   "metadata": {},
   "outputs": [],
   "source": [
    "for castledeco_i, layer in enumerate(mapObj['layers']):\n",
    "    if layer['name'] == 'castledeco':\n",
    "        break\n",
    "\n",
    "import copy\n",
    "\n",
    "deepMapObj = copy.deepcopy(mapObj)\n",
    "\n",
    "deepMapObj['layers'][castledeco_i]['objects'] = tileTracker.render_tiles()\n",
    "deepMapObj['nextobjectid'] = tileTracker.nextobjectid\n",
    "\n",
    "with open('level1-rendered.json', 'w') as outfile:\n",
    "    json.dump(deepMapObj, outfile, indent=2)"
   ]
  },
  {
   "cell_type": "code",
   "execution_count": null,
   "metadata": {},
   "outputs": [],
   "source": []
  },
  {
   "cell_type": "code",
   "execution_count": null,
   "metadata": {},
   "outputs": [],
   "source": []
  },
  {
   "cell_type": "code",
   "execution_count": null,
   "metadata": {},
   "outputs": [],
   "source": []
  },
  {
   "cell_type": "code",
   "execution_count": null,
   "metadata": {},
   "outputs": [],
   "source": []
  },
  {
   "cell_type": "code",
   "execution_count": null,
   "metadata": {},
   "outputs": [],
   "source": []
  },
  {
   "cell_type": "code",
   "execution_count": null,
   "metadata": {},
   "outputs": [],
   "source": []
  },
  {
   "cell_type": "code",
   "execution_count": null,
   "metadata": {},
   "outputs": [],
   "source": []
  }
 ],
 "metadata": {
  "kernelspec": {
   "display_name": "Python 3.7.4 64-bit ('base': conda)",
   "language": "python",
   "name": "python37464bitbaseconda35d75ea611344c00a68049155eee2cf5"
  },
  "language_info": {
   "codemirror_mode": {
    "name": "ipython",
    "version": 3
   },
   "file_extension": ".py",
   "mimetype": "text/x-python",
   "name": "python",
   "nbconvert_exporter": "python",
   "pygments_lexer": "ipython3",
   "version": "3.7.4"
  }
 },
 "nbformat": 4,
 "nbformat_minor": 4
}
